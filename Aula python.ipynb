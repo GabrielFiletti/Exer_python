{
 "cells": [
  {
   "cell_type": "markdown",
   "metadata": {},
   "source": [
    "# Aula Python - 10/10/2019"
   ]
  },
  {
   "cell_type": "code",
   "execution_count": 5,
   "metadata": {},
   "outputs": [
    {
     "ename": "ModuleNotFoundError",
     "evalue": "No module named 'lib'",
     "output_type": "error",
     "traceback": [
      "\u001b[0;31m---------------------------------------------------------------------------\u001b[0m",
      "\u001b[0;31mModuleNotFoundError\u001b[0m                       Traceback (most recent call last)",
      "\u001b[0;32m<ipython-input-5-62f73baf018d>\u001b[0m in \u001b[0;36m<module>\u001b[0;34m\u001b[0m\n\u001b[1;32m      2\u001b[0m \u001b[0msys\u001b[0m\u001b[0;34m.\u001b[0m\u001b[0mpath\u001b[0m\u001b[0;34m.\u001b[0m\u001b[0mappend\u001b[0m\u001b[0;34m(\u001b[0m\u001b[0;34m'lib'\u001b[0m\u001b[0;34m)\u001b[0m\u001b[0;34m\u001b[0m\u001b[0;34m\u001b[0m\u001b[0m\n\u001b[1;32m      3\u001b[0m \u001b[0;34m\u001b[0m\u001b[0m\n\u001b[0;32m----> 4\u001b[0;31m \u001b[0;32mfrom\u001b[0m \u001b[0mlib\u001b[0m \u001b[0;32mimport\u001b[0m \u001b[0;34m*\u001b[0m\u001b[0;34m\u001b[0m\u001b[0;34m\u001b[0m\u001b[0m\n\u001b[0m\u001b[1;32m      5\u001b[0m \u001b[0;34m\u001b[0m\u001b[0m\n\u001b[1;32m      6\u001b[0m \u001b[0mprint\u001b[0m\u001b[0;34m(\u001b[0m\u001b[0;34m\"programa principal\"\u001b[0m\u001b[0;34m)\u001b[0m\u001b[0;34m\u001b[0m\u001b[0;34m\u001b[0m\u001b[0m\n",
      "\u001b[0;31mModuleNotFoundError\u001b[0m: No module named 'lib'"
     ]
    }
   ],
   "source": [
    "import sys\n",
    "sys.path.append('lib')\n",
    "\n",
    "from lib import *\n",
    "\n",
    "print(\"programa principal\")\n",
    "printmsg()"
   ]
  },
  {
   "cell_type": "code",
   "execution_count": 20,
   "metadata": {},
   "outputs": [
    {
     "name": "stdout",
     "output_type": "stream",
     "text": [
      "['Guilherme', 'Fernando', 'Rodrigo']\n",
      "Segundo elemento Rodrigo\n",
      "Tamanho = 3\n",
      "['Guilherme', 'Fernando', 'Rodrigo', 'Andre']\n",
      "True\n",
      "[1, [5, 6], 9]\n"
     ]
    }
   ],
   "source": [
    "#Exemplos de Listas\n",
    "amigos = [\"Guilherme\", \"Fernando\", \"Rodrigo\"]\n",
    "print(amigos)\n",
    "print(\"Segundo elemento\", amigos[2])\n",
    "print(\"Tamanho =\", len(amigos))\n",
    "\n",
    "amigos.append(\"Andre\")\n",
    "print(amigos)\n",
    "a =\"Rodrigo\" in amigos\n",
    "print(a)\n",
    "\n",
    "\n",
    "lista = [1, [5,6], 9]\n",
    "print(lista)"
   ]
  },
  {
   "cell_type": "markdown",
   "metadata": {},
   "source": [
    "# Lista Simples\n"
   ]
  },
  {
   "cell_type": "code",
   "execution_count": 25,
   "metadata": {},
   "outputs": [
    {
     "name": "stdout",
     "output_type": "stream",
     "text": [
      "a\n",
      "e\n"
     ]
    }
   ],
   "source": [
    "vowels = ['a', 'e', 'i', 'o', 'u']\n",
    "vowels\n",
    "print(vowels[0])\n",
    "print(vowels[1])\n",
    "\n"
   ]
  },
  {
   "cell_type": "markdown",
   "metadata": {},
   "source": [
    "# Operações com listas\n",
    "\n"
   ]
  },
  {
   "cell_type": "code",
   "execution_count": 52,
   "metadata": {},
   "outputs": [
    {
     "name": "stdout",
     "output_type": "stream",
     "text": [
      "[1, 2, 5, 4.3]\n",
      "[1, 2, 5, 4.3, 5]\n",
      "[1, 2, 5, 4.3, 5]\n",
      "[1, 2, 5, 4.3, 5, 9]\n",
      "----------------------------\n",
      "                            \n",
      "[1, 9, 5, 3, 11]\n",
      "[1, 5, 3, 11]\n",
      "----------------------------\n",
      "                            \n",
      "[1, 3, 5, 11]\n",
      "[11, 5, 3, 1]\n",
      "----------------------------\n",
      "                            \n",
      "['Amora', 'Banana', 'Caju', 'Jabuticaba', 'Manga']\n"
     ]
    },
    {
     "data": {
      "text/plain": [
       "1"
      ]
     },
     "execution_count": 52,
     "metadata": {},
     "output_type": "execute_result"
    }
   ],
   "source": [
    "a = [1, 2, 5, 4.3]\n",
    "b = a\n",
    "print(b)\n",
    "a.append(5) # adiciona um valor ao final da lista\n",
    "print(b) # imprime a nova lista a apos add um novo elemento\n",
    "\n",
    "import copy\n",
    "b1 = copy.deepcopy(a) # faz a copia e nao vincula as duas listas\n",
    "a.append(9)\n",
    "print(b1)\n",
    "print(b)\n",
    "\n",
    "print(\"----------------------------\")\n",
    "print(\"                            \")\n",
    "c = [1, 9, 5, 3, 11]\n",
    "print(c)\n",
    "c.pop(1) # elimina o valor da posição 1\n",
    "print(c)\n",
    "print(\"----------------------------\")\n",
    "print(\"                            \")\n",
    "c.sort() # coloca a lista em ordem crescente\n",
    "print(c)\n",
    "c.sort(reverse=True) # coloca a lista em ordem decrescente\n",
    "print(c)\n",
    "max(c)\n",
    "print(\"----------------------------\")\n",
    "print(\"                            \")\n",
    "\n",
    "lis = [\"Banana\", \"Caju\", \"Amora\",\"Manga\", \"Jabuticaba\"]\n",
    "lis.sort()\n",
    "print(lis)\n",
    "\n",
    "lis.count(\"Banana\") # mostra quantas vezes a srting banana aparece na lista\n",
    "\n",
    "\n",
    "\n",
    "\n"
   ]
  },
  {
   "cell_type": "markdown",
   "metadata": {},
   "source": [
    "# Dicionários"
   ]
  },
  {
   "cell_type": "code",
   "execution_count": 72,
   "metadata": {
    "scrolled": true
   },
   "outputs": [
    {
     "name": "stdout",
     "output_type": "stream",
     "text": [
      "dict_keys(['Rahul', 'Ravi', 'Rohit'])\n",
      "dict_values([86, 92, 75])\n",
      "----------------------------\n",
      "                            \n",
      "{'fantasy': 'Harry Potter', 'detective': 'Sherlock Holmes', 'thriller': 'The Da Vinci Code', 'autoajuda': ('O poder do hábito', 'A sutil arte')}\n",
      "Harry Potter\n",
      "Sherlock Holmes\n",
      "The Da Vinci Code\n",
      "('O poder do hábito', 'A sutil arte')\n",
      "Rahul: 86\n",
      "Ravi: 92\n",
      "Rohit: 75\n"
     ]
    }
   ],
   "source": [
    "marks = {'Rahul' : 86, 'Ravi' : 92, 'Rohit' : 75}\n",
    "marks\n",
    "print(marks.keys())\n",
    "print(marks.values())\n",
    "print(\"----------------------------\")\n",
    "print(\"                            \")\n",
    "\n",
    "fav_books = {}\n",
    "fav_books['fantasy']   = 'Harry Potter'\n",
    "fav_books['detective'] = 'Sherlock Holmes'\n",
    "fav_books['thriller']  = 'The Da Vinci Code'\n",
    "fav_books['autoajuda'] = 'O poder do hábito','A sutil arte'\n",
    "\n",
    "print(fav_books)\n",
    "\n",
    "for book in fav_books.values():\n",
    "    print(book)\n",
    "    \n",
    "for name, mark in marks.items():\n",
    "    print(name, mark, sep=': ')"
   ]
  },
  {
   "cell_type": "code",
   "execution_count": 69,
   "metadata": {},
   "outputs": [
    {
     "name": "stdout",
     "output_type": "stream",
     "text": [
      "[6, 12, 18]\n"
     ]
    }
   ],
   "source": [
    "vec = [2, 4, 6]\n",
    "print([3*x for x in vec])"
   ]
  },
  {
   "cell_type": "code",
   "execution_count": 126,
   "metadata": {},
   "outputs": [
    {
     "name": "stdout",
     "output_type": "stream",
     "text": [
      "Entre com um valor :11\n",
      "[32, 33, 84, 63, 32, 24, 74, 97, 56, 10, 3]\n"
     ]
    }
   ],
   "source": [
    "from random import randint\n",
    "\n",
    "a = int(input(\"Entre com um valor :\"))\n",
    "cont = 0\n",
    "lista = []\n",
    "\n",
    "while cont < a:\n",
    "    lista.append(randint(0,100))\n",
    "    cont = cont+1\n",
    "    \n",
    "print(lista)\n"
   ]
  },
  {
   "cell_type": "code",
   "execution_count": 127,
   "metadata": {},
   "outputs": [
    {
     "name": "stdout",
     "output_type": "stream",
     "text": [
      "Entre com um valor :12\n",
      "[11, 82, 67, 10, 34, 57, 27, 62, 20, 54, 32, 71]\n"
     ]
    }
   ],
   "source": [
    "b = int(input(\"Entre com um valor :\"))\n",
    "lista2 = random.sample(range(0,100),b)\n",
    "print(lista2)\n"
   ]
  },
  {
   "cell_type": "code",
   "execution_count": 160,
   "metadata": {},
   "outputs": [
    {
     "name": "stdout",
     "output_type": "stream",
     "text": [
      "Rafael\n",
      "Gabriel\n",
      "Alexandre\n",
      "Andre\n",
      "Cristiano\n",
      "Leticia\n",
      "Bruna\n",
      "Harrison\n",
      "Alessandra\n",
      "Lucas\n",
      "Jessica\n",
      "Vitor\n",
      "Lazaro\n",
      "Gabriela\n",
      "Felipe\n",
      "Wana\n",
      "Savio\n"
     ]
    }
   ],
   "source": [
    "nomes = ['Rafael','Gabriel','Alexandre','Daniel','Andre','Cristiano','Duan','Leticia','Bruna','Harrison','Alessandra','Lucas','Jessica','Vitor','Lazaro','Gabriela','Felipe','Wana','Savio']\n",
    "\n",
    "semD =[nome for nome in nomes if nome[0]!='D'and nome[0]!='d']\n",
    "\n",
    "for nome in semD:\n",
    "    print(nome)\n",
    "\n",
    "\n"
   ]
  },
  {
   "cell_type": "code",
   "execution_count": 47,
   "metadata": {},
   "outputs": [
    {
     "name": "stdout",
     "output_type": "stream",
     "text": [
      "['RAFAEL', 'GABRIEL', 'ALEXANDRE', 'DANIEL', 'ANDRE', 'CRISTIANO', 'DUAN', 'LETICIA', 'BRUNA', 'HARRISON', 'ALESSANDRA', 'LUCAS', 'JESSICA', 'VITOR', 'LAZARO', 'GABRIELA', 'FELIPE', 'WANA', 'SAVIO']\n"
     ]
    }
   ],
   "source": [
    "nomes = ['Rafael','Gabriel','Alexandre','Daniel','Andre','Cristiano','Duan','Leticia','Bruna','Harrison','Alessandra','Lucas','Jessica','Vitor','Lazaro','Gabriela','Felipe','Wana','Savio']\n",
    "\n",
    "new = []\n",
    "for nomes in nomes:\n",
    "    new.append(nomes.upper())\n",
    "print(new)"
   ]
  },
  {
   "cell_type": "code",
   "execution_count": 65,
   "metadata": {},
   "outputs": [
    {
     "name": "stdout",
     "output_type": "stream",
     "text": [
      "['LARANJA', 'UVA', 'KIWI', 'MANGA']\n"
     ]
    }
   ],
   "source": [
    "fruta = ['laranja', 'uva','kiwi','manga']\n",
    "\n",
    "new = []\n",
    "\n",
    "for fruta in fruta:\n",
    "    new.append(fruta.upper())\n",
    "print(new)\n",
    "    \n",
    "\n"
   ]
  },
  {
   "cell_type": "markdown",
   "metadata": {},
   "source": [
    "# Aula Python 14/10/2019"
   ]
  },
  {
   "cell_type": "markdown",
   "metadata": {},
   "source": [
    "### List Comprehensions"
   ]
  },
  {
   "cell_type": "code",
   "execution_count": 33,
   "metadata": {},
   "outputs": [
    {
     "data": {
      "text/plain": [
       "[6, 12, 18]"
      ]
     },
     "execution_count": 33,
     "metadata": {},
     "output_type": "execute_result"
    }
   ],
   "source": [
    "vec = [2, 4, 6]\n",
    "[3*x for x in vec]\n",
    "\n"
   ]
  },
  {
   "cell_type": "code",
   "execution_count": 34,
   "metadata": {},
   "outputs": [
    {
     "data": {
      "text/plain": [
       "[12, 18]"
      ]
     },
     "execution_count": 34,
     "metadata": {},
     "output_type": "execute_result"
    }
   ],
   "source": [
    "vec = [2, 4, 6]\n",
    "[3*x for x in vec if x > 3]\n"
   ]
  },
  {
   "cell_type": "code",
   "execution_count": 87,
   "metadata": {},
   "outputs": [
    {
     "name": "stdout",
     "output_type": "stream",
     "text": [
      "['arq1', 'ext']\n",
      "['arq5', 'txt']\n",
      "['arq2', 'obt']\n"
     ]
    }
   ],
   "source": [
    "arq = [\"arq1.ext\",\"arq5.txt\",\"arq2.obt\"]\n",
    "\n",
    "new = []\n",
    "for i in range(len(arq)):\n",
    "    new = arq[i].split(\".\")\n",
    "    print(new)\n",
    "\n"
   ]
  },
  {
   "cell_type": "code",
   "execution_count": 127,
   "metadata": {},
   "outputs": [
    {
     "name": "stdout",
     "output_type": "stream",
     "text": [
      "[2, 4, 6]\n",
      "[2, 4, 6, 8, 10, 12, 14, 16]\n",
      "14\n",
      "16\n",
      "[2, 4, 6, 8]\n",
      "[2, 6, 10, 14]\n",
      "[16, 14, 12, 10, 8, 6, 4, 2]\n",
      "[2, 4, 6, 8, 10]\n",
      "[16, 14]\n",
      "[9, 8, 7, 6, 5, 4, 3, 2, 1]\n"
     ]
    }
   ],
   "source": [
    "vec = [2, 4, 6, 8, 10, 12, 14, 16]\n",
    "print(vec[0:3]) # inicia do zero e vai até o terceiro elemento\n",
    "print(vec[:]) # pega a lista toda\n",
    "print(vec[-2]) # pega o penultimo elemento\n",
    "print(vec[-1]) # pega o último\n",
    "\n",
    "a = vec[0:4] # pega os 4 primeiros valores\n",
    "print(a)\n",
    "\n",
    "print(vec[0:10:2])\n",
    "print(vec[::-1]) # pega lista ao contrario\n",
    "print(vec[:5:1])\n",
    "print(vec[:5:-1])\n",
    "\n",
    "\n",
    "tc = [ 1,2,3,4,5,6,7,8,9]\n",
    "print(tc[::-1])\n",
    "\n",
    "\n"
   ]
  },
  {
   "cell_type": "code",
   "execution_count": 137,
   "metadata": {},
   "outputs": [
    {
     "name": "stdout",
     "output_type": "stream",
     "text": [
      "[1, 3, 3, 4, 5, 6]\n",
      "[1, 3, 3, 4, 5, 6]\n",
      "[1, 2, 3, 4, 5, 6]\n",
      "140050769112432\n",
      "140050769112432\n",
      "140050919913024\n",
      "[1, 3, 3, 4, 5, 6]\n"
     ]
    }
   ],
   "source": [
    "import copy\n",
    "vetor = [1,2,3,4,5,6]\n",
    "b = vetor\n",
    "b1 = copy.deepcopy(vetor) #copia sem vincular\n",
    "vetor[1] = 3\n",
    "print(vetor)\n",
    "print(b)\n",
    "print(b1)\n",
    "\n",
    "print(id(b)) # Id do \"b\" e do \"vetor\" são iguais\n",
    "print(id(vetor))\n",
    "print(id(b1)) # quando usamos o copy.deepcopy() não vinculamos as listas.\n",
    "\n",
    "z = vetor[:] # quando fazemos assim também há a vinculação\n",
    "print(z)\n",
    "\n"
   ]
  },
  {
   "cell_type": "code",
   "execution_count": 149,
   "metadata": {},
   "outputs": [
    {
     "name": "stdout",
     "output_type": "stream",
     "text": [
      "Entre com o nome/home/gabrielmartins/texto.txt\n"
     ]
    }
   ],
   "source": [
    "filename = input(\"Entre com o nome\")\n",
    "inputFile = open(filename,\"r\")"
   ]
  },
  {
   "cell_type": "code",
   "execution_count": 170,
   "metadata": {},
   "outputs": [],
   "source": [
    "a = open(\"texto1.txt\", \"w\")\n",
    "a.write(\"Teste 1 2 3\")\n",
    "a.close()"
   ]
  },
  {
   "cell_type": "code",
   "execution_count": 181,
   "metadata": {},
   "outputs": [
    {
     "data": {
      "text/plain": [
       "['Teste 1 2 3\\n', 'Teste 3 2 1\\n', 'Teste 2 4 6\\n', 'Teste 1 1 1\\n']"
      ]
     },
     "execution_count": 181,
     "metadata": {},
     "output_type": "execute_result"
    }
   ],
   "source": [
    "a = open(\"texto.txt\",\"r\")\n",
    "a = a.readlines()\n",
    "a\n"
   ]
  },
  {
   "cell_type": "code",
   "execution_count": 183,
   "metadata": {},
   "outputs": [
    {
     "name": "stdout",
     "output_type": "stream",
     "text": [
      "[0, 1, 4, 9, 16, 25, 36, 49, 64, 81]\n"
     ]
    }
   ],
   "source": [
    "arg = [x*x for x in range(10)]\n",
    "print(arg)"
   ]
  },
  {
   "cell_type": "code",
   "execution_count": 203,
   "metadata": {},
   "outputs": [
    {
     "name": "stdout",
     "output_type": "stream",
     "text": [
      "text to terminal\n"
     ]
    }
   ],
   "source": [
    "f = open('out2.txt', 'w')\n",
    "print('text to terminal')\n",
    "print(\"text to write\", file = f)\n",
    "print(\"text to write1\", file = f)\n",
    "f.write(\"Teste 1231213212321312123123\")\n",
    "f.write(\"alo\")\n",
    "\n",
    "f.close()"
   ]
  },
  {
   "cell_type": "code",
   "execution_count": 192,
   "metadata": {},
   "outputs": [
    {
     "name": "stdout",
     "output_type": "stream",
     "text": [
      "text to write\n",
      "text to write1\n"
     ]
    }
   ],
   "source": [
    "fh = open(\"out2.txt\",'r')\n",
    "result = [print(i.rstrip('\\n')) for i in fh]\n"
   ]
  },
  {
   "cell_type": "code",
   "execution_count": 204,
   "metadata": {},
   "outputs": [],
   "source": [
    "f = open(\"out2.txt\",'w')\n",
    "f.write(\"Teste 1 2 3\")\n",
    "f.write(\"Alo\")\n",
    "f.write(\"-------------------\")\n",
    "f.close()"
   ]
  },
  {
   "cell_type": "markdown",
   "metadata": {},
   "source": [
    "# Aula 16/10/2019  - Orientação a objeto\n",
    "\n"
   ]
  },
  {
   "cell_type": "code",
   "execution_count": 42,
   "metadata": {},
   "outputs": [],
   "source": [
    "class novaclasse():\n",
    "    __idade = 2\n",
    "    nome = \"Novo Nome\" # atributo\n",
    "    def __init__(self): # construtor\n",
    "        print('Construtor')\n",
    "    def __del__(self):\n",
    "        print(\"Destrutor\") #destrutor\n",
    "        \n",
    "    def alteranome(self):  # método # sempre colocar o 'self'\n",
    "        print(\"função altera nome\")\n",
    "    def getidade(self):\n",
    "        return(self.__idade)\n",
    "    def setidade(self,novaidade):\n",
    "        self.__idade = novaidade"
   ]
  },
  {
   "cell_type": "code",
   "execution_count": 43,
   "metadata": {},
   "outputs": [
    {
     "name": "stdout",
     "output_type": "stream",
     "text": [
      "Construtor\n",
      "Novo Nome\n",
      "função altera nome\n",
      "None\n",
      "33\n",
      "2\n",
      "42\n",
      "Destrutor\n"
     ]
    }
   ],
   "source": [
    "objeto = novaclasse()\n",
    "print(objeto.nome) # chama o atributo\n",
    "print(objeto.alteranome()) # chama o método\n",
    "\n",
    "objeto.nome = \"33\"\n",
    "print(objeto.nome)\n",
    "print(objeto.getidade())\n",
    "objeto.setidade(42)\n",
    "print(objeto.getidade())\n",
    "objeto=None"
   ]
  },
  {
   "cell_type": "code",
   "execution_count": 38,
   "metadata": {},
   "outputs": [
    {
     "name": "stdout",
     "output_type": "stream",
     "text": [
      "123\n"
     ]
    }
   ],
   "source": [
    "objeto.setidade(123)\n",
    "print(objeto.getidade())\n"
   ]
  },
  {
   "cell_type": "markdown",
   "metadata": {},
   "source": [
    "crie uma classe python que controla clientes de um banco que podem ser pessoa física (CPF) ou jurídica (CNPJ), utilizando herança. Crie outra classe em PYthon que controla contas bancarias, que pode ser corrente ou poupança, o estado da conta é o saldo, e os métodos são saque ou depósito \n",
    "um atributo da conta bancária é a referencia a um objeto cliente "
   ]
  },
  {
   "cell_type": "code",
   "execution_count": 5,
   "metadata": {},
   "outputs": [],
   "source": [
    "def cria_conta(numero,titular,saldo,limite):\n",
    "    conta = {\"numero\":numero,\"titular\":titular,\"saldo\":saldo,\"limite\":limite}\n",
    "    return conta\n",
    "conta1 = cria_conta('123-4', 'João', 120.0, 1000.0)\n",
    "conta2 = cria_conta('123-5', 'José', 200.0, 1000.0)"
   ]
  },
  {
   "cell_type": "code",
   "execution_count": 63,
   "metadata": {},
   "outputs": [
    {
     "name": "stdout",
     "output_type": "stream",
     "text": [
      "789.123.446-46\n",
      "Adalberto Pinto\n",
      "CP\n",
      "123.897.669/65.63\n",
      "Empresa Empresa\n",
      "CC\n"
     ]
    }
   ],
   "source": [
    "class Pessoa:\n",
    "    \n",
    "    def __init__(self, nome, tipo):\n",
    "        self.nome = nome\n",
    "        self.tipo = tipo\n",
    "     \n",
    "    def setNome(self, nome):\n",
    "        self.nome = nome\n",
    "     \n",
    "    def setTipo(self, tipo):\n",
    "        self.tipo = tipo\n",
    "     \n",
    "    def getNome(self):\n",
    "        return self.nome\n",
    "         \n",
    "    def getTipo(self):\n",
    "        return self.tipo\n",
    "\n",
    "class PessoaFísica(Pessoa):\n",
    "    \n",
    "    def __init__(self,CPF,nome,tipo):\n",
    "        super().__init__(nome,tipo)\n",
    "        self.CPF = CPF\n",
    "        \n",
    "    def setCPF(self):\n",
    "        self.CPF = CPF\n",
    "        \n",
    "    def getCPF(self):\n",
    "        return self.CPF\n",
    "    \n",
    "\n",
    "class PessoaJuridica(Pessoa):\n",
    "    \n",
    "    def __init__(self,CNPJ,nome,tipo):\n",
    "        super().__init__(nome,tipo)\n",
    "        self.CNPJ = CNPJ\n",
    "        \n",
    "    def getCNPJ(self):\n",
    "        return self.CNPJ\n",
    "    \n",
    "    def setCNPJ(self):\n",
    "        self.CNPJ = CNPJ\n",
    "\n",
    "\n",
    "\n",
    "a = PessoaFísica(\"789.123.446-46\", nome=\"Adalberto Pinto\",tipo=\"CP\")\n",
    "b = PessoaJuridica(\"123.897.669/65.63\", nome = \"Empresa Empresa\", tipo = \"CC\")\n",
    "\n",
    "\n",
    "print(a.getCPF())\n",
    "print(a.getNome())\n",
    "print(a.getTipo())\n",
    "\n",
    "print(b.CNPJ)\n",
    "print(b.getNome())\n",
    "print(b.getTipo())\n",
    "\n",
    "    \n",
    "    \n"
   ]
  },
  {
   "cell_type": "code",
   "execution_count": 82,
   "metadata": {},
   "outputs": [
    {
     "name": "stdout",
     "output_type": "stream",
     "text": [
      "Conta Corrente\n",
      "Adalberto Ferreira\n",
      "78.456.258-87\n",
      "980\n"
     ]
    }
   ],
   "source": [
    "class Conta:\n",
    "    \n",
    "    saldo = 0\n",
    "    def mostrarsaldo(self):\n",
    "        print(self.saldo)  \n",
    "    def saque(self,valor1):\n",
    "        self.saldo -= valor1\n",
    "    def deposito(self,valor2):\n",
    "        self.saldo += valor2\n",
    "##################################### \n",
    "\n",
    "class Cliente:\n",
    "    def cadastranome(self,nome):\n",
    "        self.nome = nome\n",
    "#####################################        \n",
    "class PF(Cliente):\n",
    "    def cadastraCPF(self,CPF):\n",
    "        self.CPF = CPF\n",
    "        \n",
    "class PJ(Cliente):\n",
    "    def cadastraCNPJ(self,CNPJ):\n",
    "        self.CNPJ = CNPJ\n",
    "        \n",
    "class Clientes(PF,PJ):\n",
    "    def cadastro(self):\n",
    "        print(\"---\")\n",
    "#####################################        \n",
    "\n",
    "class contaC(Conta,Clientes):\n",
    "    def __init__(self):\n",
    "        print(\"Conta Corrente\")\n",
    "class ContaP(Conta,Clientes):\n",
    "    def __init__(self):\n",
    "        print(\"Conta Poupança\")\n",
    "\n",
    "a = contaC()\n",
    "a.cadastranome(\"Adalberto Ferreira\")\n",
    "a.cadastraCPF(\"78.456.258-87\")\n",
    "a.deposito(1000)\n",
    "a.saque(20)    \n",
    "        \n",
    "print(a.nome)\n",
    "print(a.CPF)\n",
    "print(a.saldo)       "
   ]
  },
  {
   "cell_type": "code",
   "execution_count": null,
   "metadata": {},
   "outputs": [],
   "source": [
    "\n",
    "        "
   ]
  },
  {
   "cell_type": "code",
   "execution_count": 18,
   "metadata": {},
   "outputs": [
    {
     "ename": "AttributeError",
     "evalue": "'teste' object has no attribute 'valor'",
     "output_type": "error",
     "traceback": [
      "\u001b[0;31m---------------------------------------------------------------------------\u001b[0m",
      "\u001b[0;31mAttributeError\u001b[0m                            Traceback (most recent call last)",
      "\u001b[0;32m<ipython-input-18-f2408c40ceed>\u001b[0m in \u001b[0;36m<module>\u001b[0;34m\u001b[0m\n\u001b[1;32m     37\u001b[0m \u001b[0;31m#print(g.palavra())\u001b[0m\u001b[0;34m\u001b[0m\u001b[0;34m\u001b[0m\u001b[0;34m\u001b[0m\u001b[0m\n\u001b[1;32m     38\u001b[0m \u001b[0mc\u001b[0m \u001b[0;34m=\u001b[0m \u001b[0mteste\u001b[0m\u001b[0;34m(\u001b[0m\u001b[0;34m)\u001b[0m\u001b[0;34m\u001b[0m\u001b[0;34m\u001b[0m\u001b[0m\n\u001b[0;32m---> 39\u001b[0;31m \u001b[0mprint\u001b[0m\u001b[0;34m(\u001b[0m\u001b[0mc\u001b[0m\u001b[0;34m.\u001b[0m\u001b[0mvalor\u001b[0m\u001b[0;34m(\u001b[0m\u001b[0;36m20\u001b[0m\u001b[0;34m)\u001b[0m\u001b[0;34m)\u001b[0m\u001b[0;34m\u001b[0m\u001b[0;34m\u001b[0m\u001b[0m\n\u001b[0m\u001b[1;32m     40\u001b[0m \u001b[0;34m\u001b[0m\u001b[0m\n",
      "\u001b[0;31mAttributeError\u001b[0m: 'teste' object has no attribute 'valor'"
     ]
    }
   ],
   "source": [
    "class read:\n",
    "    def __init__(self,texto):\n",
    "        abrir = open(texto,'r')\n",
    "        b = [linha for linha in abrir]  \n",
    "        linhas = []\n",
    "        linhas2 =[]\n",
    "        for line in b:\n",
    "            linhas+=[line.replace(\"\\n\",\"\")]\n",
    "            linhas2+=[line.split(\" \")]\n",
    "        self.b1 = linhas\n",
    "        self.b2 = linhas2\n",
    "        \n",
    "        \n",
    "    def lista(self):\n",
    "        return self.b1\n",
    "    \n",
    "    def palavra(self):\n",
    "        return self.b2\n",
    "    \n",
    "    \n",
    "class teste:\n",
    "    val = 0\n",
    "    def mostrarsaldo(self):\n",
    "        print(self.val)  \n",
    "    def saque(self,valor1):\n",
    "        self.val -= valor1\n",
    "    def deposito(self,valor2):\n",
    "        self.val += valor2\n",
    "        \n",
    "        \n",
    "        \n",
    "        \n",
    "        \n",
    "#g = read(\"texto1.txt\")\n",
    "#print(g.lista())\n",
    "#print(\"--------------------\")\n",
    "#print(g.palavra())\n",
    "c = teste()\n",
    "print(c.valor(20))\n",
    "\n"
   ]
  },
  {
   "cell_type": "code",
   "execution_count": 23,
   "metadata": {},
   "outputs": [
    {
     "data": {
      "text/plain": [
       "['aluno1', 'aluno2', 'aluno3']"
      ]
     },
     "execution_count": 23,
     "metadata": {},
     "output_type": "execute_result"
    }
   ],
   "source": [
    "alunos = [\"aluno1\",\"aluno3\",\"aluno2\"]\n",
    "\n",
    "def addaluno(nome):\n",
    "    alunos.append(nome)\n",
    "\n",
    "def classif():\n",
    "    alunos.sort()\n",
    "    return alunos\n",
    "\n",
    "\n",
    "\n",
    "    \n",
    "\n"
   ]
  },
  {
   "cell_type": "code",
   "execution_count": 61,
   "metadata": {},
   "outputs": [
    {
     "data": {
      "text/plain": [
       "['Aluno1', 'Aluno2', 'Aluno5']"
      ]
     },
     "execution_count": 61,
     "metadata": {},
     "output_type": "execute_result"
    }
   ],
   "source": [
    "class alunos:\n",
    "    \n",
    "    lista = []\n",
    "    \n",
    "    def addaluno(self,nome):\n",
    "        self.lista.append(nome)\n",
    "        \n",
    "    def classif(self):\n",
    "        self.lista.sort()\n",
    "        return self.lista\n",
    "    \n",
    "    def remover(self,nome):\n",
    "        self.lista.remove(nome)\n",
    "        return self.lista\n",
    "\n",
    "a = alunos()\n",
    "a.addaluno(\"Aluno2\")\n",
    "a.addaluno(\"Aluno1\")\n",
    "a.classif()   \n",
    "a.addaluno(\"Aluno5\")\n",
    "a.addaluno(\"Aluno0\")\n",
    "a.remover(\"Aluno0\")      "
   ]
  },
  {
   "cell_type": "code",
   "execution_count": 59,
   "metadata": {},
   "outputs": [],
   "source": [
    "class turma:\n",
    "    alunos = []\n",
    "    nometurma=\"\"\n",
    "    def definenometurma(self,nome):\n",
    "        self.nometurma = nome\n",
    "        return self.nometurma\n"
   ]
  },
  {
   "cell_type": "code",
   "execution_count": 60,
   "metadata": {},
   "outputs": [
    {
     "data": {
      "text/plain": [
       "'FIEP'"
      ]
     },
     "execution_count": 60,
     "metadata": {},
     "output_type": "execute_result"
    }
   ],
   "source": [
    "residencia = turma()\n",
    "residencia.definenometurma(\"FIEP\")\n"
   ]
  },
  {
   "cell_type": "code",
   "execution_count": 100,
   "metadata": {},
   "outputs": [],
   "source": [
    "class pessoa:\n",
    "    nome = \"\"\n",
    "    endereco = \"\"\n",
    "    \n",
    "    \n",
    "    def comparar(self,pessoa):\n",
    "        print(\"objeto que chamou o método\", self.nome)\n",
    "        print(\"Objeto passado como parametro\",pessoa.nome)\n",
    "        \n",
    "    def __init__(self,name,end):\n",
    "        self.nome = name\n",
    "        self.endereco = end\n",
    "        \n",
    "    #def __del__(self):\n",
    "        #self.nome = \"\"\n",
    "        #self.endereco = \"\"\n",
    "        #print(\"Destruido\")\n",
    "        \n",
    "    \n",
    "    def __str__(self):\n",
    "        return \"<\"+ self.nome + \", \" + self.endereco + \">\"\n",
    "        \n",
    "        "
   ]
  },
  {
   "cell_type": "code",
   "execution_count": 101,
   "metadata": {
    "scrolled": true
   },
   "outputs": [
    {
     "name": "stdout",
     "output_type": "stream",
     "text": [
      "Destruido\n",
      "Sylvio Neves Neves\n",
      "Rua Avenina Viela\n",
      "<Sylvio Neves Neves, Rua Avenina Viela>\n",
      "objeto que chamou o método Sylvio Neves Neves\n",
      "Objeto passado como parametro Peixoto\n",
      "Destruido\n"
     ]
    }
   ],
   "source": [
    "silvio = pessoa(\"Sylvio Neves Neves\",\"Rua Avenina Viela\")\n",
    "#silvio.nome = \"Silveta\"\n",
    "print(silvio.nome)\n",
    "print(silvio.endereco)\n",
    "print(silvio)\n",
    "silvio.comparar(outro)\n",
    "\n",
    "outro = pessoa(\"Peixoto\", \"Rua kibinho\")"
   ]
  },
  {
   "cell_type": "code",
   "execution_count": 138,
   "metadata": {},
   "outputs": [],
   "source": [
    "class funcionario(pessoa):\n",
    "    funcional = \"\" \n",
    "    __aniversario = \"\" # O _ transforma a variável em protegida\n",
    "    \n",
    "    def setaniversario(self,aniversario):\n",
    "        self.__aniversario = aniversario\n",
    "        \n",
    "    def getaniversario(self):\n",
    "        return (self.__aniversario)\n",
    "    \n",
    "    def __init__(self,funcional,nome,endereco):\n",
    "        self.funcional = funcional\n",
    "        super().__init__(nome,endereco) \n",
    "        #pessoa.endereco = endereco\n",
    "##############################\n",
    "# pode usar tanto o método super() quando chamar direto a superclasse\n"
   ]
  },
  {
   "cell_type": "code",
   "execution_count": 141,
   "metadata": {},
   "outputs": [
    {
     "name": "stdout",
     "output_type": "stream",
     "text": [
      "Destruido\n",
      "Rodrigo Santini\n",
      "Rua Rua\n",
      "666\n",
      "None\n",
      "22/07/1993\n"
     ]
    }
   ],
   "source": [
    "func = funcionario(\"666\",\"Rodrigo Santini\",\"Rua Rua\")\n",
    "print(func.nome)\n",
    "print(func.endereco)\n",
    "print(func.funcional)\n",
    "print(func.setaniversario(\"22/07/1993\"))\n",
    "print(func.getaniversario())\n"
   ]
  },
  {
   "cell_type": "code",
   "execution_count": null,
   "metadata": {},
   "outputs": [],
   "source": []
  }
 ],
 "metadata": {
  "kernelspec": {
   "display_name": "Python [conda env:aula_python]",
   "language": "python",
   "name": "conda-env-aula_python-py"
  },
  "language_info": {
   "codemirror_mode": {
    "name": "ipython",
    "version": 3
   },
   "file_extension": ".py",
   "mimetype": "text/x-python",
   "name": "python",
   "nbconvert_exporter": "python",
   "pygments_lexer": "ipython3",
   "version": "3.7.4"
  }
 },
 "nbformat": 4,
 "nbformat_minor": 2
}
